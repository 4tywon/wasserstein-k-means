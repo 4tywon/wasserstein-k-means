{
 "cells": [
  {
   "cell_type": "code",
   "execution_count": 1,
   "metadata": {},
   "outputs": [],
   "source": [
    "from image_ops import Dataset_Operations\n",
    "import numpy as np\n",
    "from scipy import ndimage\n",
    "import matplotlib.pyplot as plt\n",
    "from clustering import k_means\n",
    "data = np.load(\"baseline.npy\")"
   ]
  },
  {
   "cell_type": "code",
   "execution_count": null,
   "metadata": {
    "scrolled": false
   },
   "outputs": [],
   "source": [
    "dataset = Dataset_Operations(data, metric='l2')\n",
    "clustering = k_means(60, 100)\n",
    "clustering.train(dataset, niter=3, init='k++')"
   ]
  },
  {
   "cell_type": "code",
   "execution_count": null,
   "metadata": {
    "scrolled": false
   },
   "outputs": [],
   "source": [
    "labels = clustering.labels\n",
    "centers = clustering.centers\n",
    "counts = dict()\n",
    "for label in labels:\n",
    "    counts[label] = counts[label] + 1 if label in counts else 1\n",
    "counts = [(label, counts[label]) for label in counts]\n",
    "center_counts = [(centers[int(label[0])], label[1]) for label in counts]\n",
    "sorted_centers = sorted(center_counts, key=lambda x:x[1], reverse=True)\n",
    "sorted_centers = [c[0] for c in sorted_centers]\n",
    "fig, ax = plt.subplots(figsize=(30, 30))\n",
    "ax.imshow(montage(np.array(sorted_centers)), vmin=-2, vmax=3)\n",
    "plt.show()\n",
    "counts = sorted(counts, key=lambda x:x[1], reverse=True)\n",
    "sorted_labels = np.zeros(len(labels))\n",
    "for i, entry in enumerate(counts):\n",
    "    sorted_labels[labels == entry[0]] = i\n",
    "labels = sorted_labels\n",
    "\n",
    "plt.hist(labels, bins=40)\n",
    "plt.show()"
   ]
  },
  {
   "cell_type": "code",
   "execution_count": 2,
   "metadata": {},
   "outputs": [
    {
     "name": "stderr",
     "output_type": "stream",
     "text": [
      "  0%|          | 41/10000 [00:08<36:03,  4.60it/s]\n"
     ]
    },
    {
     "ename": "KeyboardInterrupt",
     "evalue": "",
     "output_type": "error",
     "traceback": [
      "\u001b[0;31m-----------------------\u001b[0m",
      "\u001b[0;31mKeyboardInterrupt\u001b[0mTraceback (most recent call last)",
      "\u001b[0;32m<ipython-input-2-c9082fb21f00>\u001b[0m in \u001b[0;36m<module>\u001b[0;34m\u001b[0m\n\u001b[1;32m      5\u001b[0m \u001b[0;32mfor\u001b[0m \u001b[0mi\u001b[0m \u001b[0;32min\u001b[0m \u001b[0mtqdm\u001b[0m\u001b[0;34m(\u001b[0m\u001b[0mrange\u001b[0m\u001b[0;34m(\u001b[0m\u001b[0;36m10000\u001b[0m\u001b[0;34m)\u001b[0m\u001b[0;34m)\u001b[0m\u001b[0;34m:\u001b[0m\u001b[0;34m\u001b[0m\u001b[0;34m\u001b[0m\u001b[0m\n\u001b[1;32m      6\u001b[0m     \u001b[0;32mfor\u001b[0m \u001b[0mj\u001b[0m \u001b[0;32min\u001b[0m \u001b[0mangles\u001b[0m\u001b[0;34m:\u001b[0m\u001b[0;34m\u001b[0m\u001b[0;34m\u001b[0m\u001b[0m\n\u001b[0;32m----> 7\u001b[0;31m         \u001b[0mndimage\u001b[0m\u001b[0;34m.\u001b[0m\u001b[0mrotate\u001b[0m\u001b[0;34m(\u001b[0m\u001b[0mim\u001b[0m\u001b[0;34m,\u001b[0m \u001b[0mj\u001b[0m\u001b[0;34m,\u001b[0m \u001b[0mreshape\u001b[0m\u001b[0;34m=\u001b[0m\u001b[0;32mFalse\u001b[0m\u001b[0;34m)\u001b[0m\u001b[0;34m\u001b[0m\u001b[0;34m\u001b[0m\u001b[0m\n\u001b[0m\u001b[1;32m      8\u001b[0m \u001b[0;34m\u001b[0m\u001b[0m\n",
      "\u001b[0;32m/usr/local/lib/python3.7/site-packages/scipy/ndimage/interpolation.py\u001b[0m in \u001b[0;36mrotate\u001b[0;34m(input, angle, axes, reshape, output, order, mode, cval, prefilter)\u001b[0m\n\u001b[1;32m    728\u001b[0m     \u001b[0;32mif\u001b[0m \u001b[0mndim\u001b[0m \u001b[0;34m<=\u001b[0m \u001b[0;36m2\u001b[0m\u001b[0;34m:\u001b[0m\u001b[0;34m\u001b[0m\u001b[0;34m\u001b[0m\u001b[0m\n\u001b[1;32m    729\u001b[0m         affine_transform(input_arr, rot_matrix, offset, output_shape, output,\n\u001b[0;32m--> 730\u001b[0;31m                          order, mode, cval, prefilter)\n\u001b[0m\u001b[1;32m    731\u001b[0m     \u001b[0;32melse\u001b[0m\u001b[0;34m:\u001b[0m\u001b[0;34m\u001b[0m\u001b[0;34m\u001b[0m\u001b[0m\n\u001b[1;32m    732\u001b[0m         \u001b[0;31m# If ndim > 2, the rotation is applied over all the planes\u001b[0m\u001b[0;34m\u001b[0m\u001b[0;34m\u001b[0m\u001b[0;34m\u001b[0m\u001b[0m\n",
      "\u001b[0;32m/usr/local/lib/python3.7/site-packages/scipy/ndimage/interpolation.py\u001b[0m in \u001b[0;36maffine_transform\u001b[0;34m(input, matrix, offset, output_shape, output, order, mode, cval, prefilter)\u001b[0m\n\u001b[1;32m    484\u001b[0m     \u001b[0;32melse\u001b[0m\u001b[0;34m:\u001b[0m\u001b[0;34m\u001b[0m\u001b[0;34m\u001b[0m\u001b[0m\n\u001b[1;32m    485\u001b[0m         _nd_image.geometric_transform(filtered, None, None, matrix, offset,\n\u001b[0;32m--> 486\u001b[0;31m                                       output, order, mode, cval, None, None)\n\u001b[0m\u001b[1;32m    487\u001b[0m     \u001b[0;32mreturn\u001b[0m \u001b[0moutput\u001b[0m\u001b[0;34m\u001b[0m\u001b[0;34m\u001b[0m\u001b[0m\n\u001b[1;32m    488\u001b[0m \u001b[0;34m\u001b[0m\u001b[0m\n",
      "\u001b[0;31mKeyboardInterrupt\u001b[0m: "
     ]
    }
   ],
   "source": [
    "from tqdm import tqdm\n",
    "n_angles = 100\n",
    "angles = [360/n_angles * i for i in range(n_angles)]\n",
    "im = data[0]\n",
    "for i in tqdm(range(10000)):\n",
    "    for j in angles:\n",
    "        ndimage.rotate(im, j, reshape=False)\n",
    "    "
   ]
  },
  {
   "cell_type": "code",
   "execution_count": null,
   "metadata": {},
   "outputs": [],
   "source": []
  },
  {
   "cell_type": "code",
   "execution_count": null,
   "metadata": {
    "scrolled": false
   },
   "outputs": [],
   "source": [
    "from skimage.util import montage"
   ]
  },
  {
   "cell_type": "code",
   "execution_count": null,
   "metadata": {},
   "outputs": [],
   "source": [
    "dataset2 = Dataset_Operations(data, metric='wemd')\n",
    "clustering2 = k_means(60, 100)\n",
    "clustering2.train(dataset2,niter=5, init='k++')"
   ]
  },
  {
   "cell_type": "code",
   "execution_count": 3,
   "metadata": {},
   "outputs": [
    {
     "ename": "NameError",
     "evalue": "name 'clustering2' is not defined",
     "output_type": "error",
     "traceback": [
      "\u001b[0;31m-----------------------\u001b[0m",
      "\u001b[0;31mNameError\u001b[0mTraceback (most recent call last)",
      "\u001b[0;32m<ipython-input-3-bcfacdceedf2>\u001b[0m in \u001b[0;36m<module>\u001b[0;34m\u001b[0m\n\u001b[0;32m----> 1\u001b[0;31m \u001b[0mclustering2\u001b[0m\u001b[0;34m.\u001b[0m\u001b[0mview_centers\u001b[0m\u001b[0;34m(\u001b[0m\u001b[0;34m)\u001b[0m\u001b[0;34m\u001b[0m\u001b[0;34m\u001b[0m\u001b[0m\n\u001b[0m",
      "\u001b[0;31mNameError\u001b[0m: name 'clustering2' is not defined"
     ]
    }
   ],
   "source": [
    "clustering2.view_centers()"
   ]
  },
  {
   "cell_type": "code",
   "execution_count": null,
   "metadata": {
    "scrolled": false
   },
   "outputs": [],
   "source": [
    "rotations = np.load(\"angles.npy\")\n",
    "\n",
    "def angle(R1, R2, mod=False):\n",
    "    dot = R1.T[:,2].T @ R2.T[:,2]\n",
    "    if np.abs(dot) > 1:\n",
    "        dot = dot/ np.abs(dot)\n",
    "    theta1 = np.arccos(dot)* (180/np.pi)\n",
    "    dot = (-1*R1.T[:,2].T) @ R2.T[:,2]\n",
    "    if np.abs(dot) > 1:\n",
    "        dot = dot/ np.abs(dot)\n",
    "    theta2 = np.arccos(dot)* (180/np.pi)\n",
    "    if mod:\n",
    "        return min(theta1, theta2)\n",
    "    return theta1\n",
    "\n",
    "def cluster_histogram(i, rotations, labels, mod=False):\n",
    "    rots = rotations[labels == i]\n",
    "    angles = []\n",
    "    for i in range(len(rots)):\n",
    "        for j in range(i+1, len(rots)):\n",
    "            angles.append(angle(rots[i], rots[j], mod))\n",
    "    return angles\n",
    "\n",
    "def plot_histograms(hists):\n",
    "    fig = plt.figure(figsize=(30,30))\n",
    "    n = len(hists)\n",
    "    cols = 7\n",
    "    rows = np.ceil(n/7)\n",
    "    for i, hist in enumerate(hists):\n",
    "        ax = fig.add_subplot(rows, cols, i + 1)\n",
    "        ax.hist(hist, bins=180)\n",
    "    plt.show()\n",
    "    \n",
    "    \n",
    "def ordered_plot(labels, histograms):\n",
    "    counts = dict()\n",
    "    for label in labels:\n",
    "        counts[label] = counts[label] + 1 if label in counts else 1\n",
    "    counts = [(label, counts[label]) for label in counts]\n",
    "    hist_counts = [(histograms[int(label[0])], label[1]) for label in counts]\n",
    "    sorted_hists = sorted(hist_counts, key=lambda x:x[1], reverse=True)\n",
    "    sorted_hists = [h[0] for h in sorted_hists]\n",
    "    plot_histograms(sorted_hists)\n",
    "        \n",
    "\n",
    "\n",
    "emd_metrics = [cluster_histogram(i, rotations, clustering2.labels) for i in range(60)]\n",
    "\n",
    "ordered_plot(clustering2.labels, emd_metrics)\n",
    "\n"
   ]
  },
  {
   "cell_type": "code",
   "execution_count": null,
   "metadata": {},
   "outputs": [],
   "source": []
  }
 ],
 "metadata": {
  "kernelspec": {
   "display_name": "Python 3",
   "language": "python",
   "name": "python3"
  },
  "language_info": {
   "codemirror_mode": {
    "name": "ipython",
    "version": 3
   },
   "file_extension": ".py",
   "mimetype": "text/x-python",
   "name": "python",
   "nbconvert_exporter": "python",
   "pygments_lexer": "ipython3",
   "version": "3.7.7"
  }
 },
 "nbformat": 4,
 "nbformat_minor": 4
}
